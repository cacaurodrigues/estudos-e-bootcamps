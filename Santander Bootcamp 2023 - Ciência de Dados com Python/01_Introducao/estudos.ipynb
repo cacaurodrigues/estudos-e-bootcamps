{
 "cells": [
  {
   "cell_type": "markdown",
   "metadata": {},
   "source": [
    "# Modo Interativo :\n",
    "- chamando diretametne no interpretador \"python\"+enter e continuando escrevendo lá (para sair escrever: \"exit()\"+enter)\n",
    "- no interpretador escrever: python -i <nomearquivo>.py"
   ]
  },
  {
   "cell_type": "markdown",
   "metadata": {},
   "source": [
    "# dir ()\n",
    "- sem argumento retorna a lista de nomes no escopo local\n",
    "- com argumentos, retorna os métodos que podem ser feitos com esse valor"
   ]
  },
  {
   "cell_type": "markdown",
   "metadata": {},
   "source": [
    "# help ()\n",
    "- sem argumento abre uma pesquisa que pode pesquisar por objeto (só adicionando ele no interpretador e dando enter)\n",
    "- q encerra pesquisa\n",
    "- com argumento abre documentação desse objeto"
   ]
  },
  {
   "cell_type": "markdown",
   "metadata": {},
   "source": [
    "# Variáveis VS Constantes (boas práticas):\n",
    "- Variáveis escritas em minusculo, separadas por '_' e bem sugestivas\n",
    "- Constantes: escritas em maiúsculo!"
   ]
  },
  {
   "cell_type": "markdown",
   "metadata": {},
   "source": [
    "# Conversões:"
   ]
  },
  {
   "cell_type": "markdown",
   "metadata": {},
   "source": [
    "## Inteiro para float:\n",
    "- dividindo por um número\n",
    "- adicionando float na frente"
   ]
  },
  {
   "cell_type": "code",
   "execution_count": 22,
   "metadata": {},
   "outputs": [
    {
     "name": "stdout",
     "output_type": "stream",
     "text": [
      "10.0 5.0\n"
     ]
    }
   ],
   "source": [
    "preco = 10\n",
    "preco = float (10)\n",
    "\n",
    "preco2 = 10/2\n",
    "print(preco, preco2)"
   ]
  },
  {
   "cell_type": "markdown",
   "metadata": {},
   "source": [
    "## Float para inteiro\n",
    "- usando int na frente\n",
    "- por divisão usando duas barras"
   ]
  },
  {
   "cell_type": "code",
   "execution_count": 23,
   "metadata": {},
   "outputs": [
    {
     "name": "stdout",
     "output_type": "stream",
     "text": [
      "10 5\n"
     ]
    }
   ],
   "source": [
    "preco = 10.30\n",
    "preco = int(preco)\n",
    "\n",
    "print (preco, preco//2)"
   ]
  },
  {
   "cell_type": "markdown",
   "metadata": {},
   "source": [
    "## Número para string\n",
    "- usando str na frente\n",
    "- formatando com f"
   ]
  },
  {
   "cell_type": "code",
   "execution_count": 24,
   "metadata": {},
   "outputs": [
    {
     "name": "stdout",
     "output_type": "stream",
     "text": [
      "20 30\n",
      "idade 30 e preco 20\n"
     ]
    }
   ],
   "source": [
    "preco = 20\n",
    "idade = 30\n",
    "\n",
    "print(str(preco), str(idade))\n",
    "\n",
    "print(f'idade {idade} e preco {preco}')"
   ]
  },
  {
   "cell_type": "markdown",
   "metadata": {},
   "source": [
    "# Formatações de saída:\n",
    "obs: sep é separador"
   ]
  },
  {
   "cell_type": "code",
   "execution_count": 25,
   "metadata": {},
   "outputs": [
    {
     "name": "stdout",
     "output_type": "stream",
     "text": [
      " \n",
      " ...\n",
      "#...\n",
      "#\n"
     ]
    }
   ],
   "source": [
    "nome = input(\"Escreva seu nome:\")\n",
    "idade = input(\"Escreva sua idade:\")\n",
    "\n",
    "print(nome, idade)\n",
    "print(nome, idade, end=\"...\\n\")\n",
    "print(nome, idade, sep=\"#\", end=\"...\\n\")\n",
    "print(nome, idade, sep=\"#\")"
   ]
  },
  {
   "cell_type": "markdown",
   "metadata": {},
   "source": [
    "# Operador de identidade\n",
    "- Similar ao ponteiro, compara duas variaveis para saber se utilizam mesma regiao de memoria"
   ]
  },
  {
   "cell_type": "code",
   "execution_count": 26,
   "metadata": {},
   "outputs": [
    {
     "data": {
      "text/plain": [
       "True"
      ]
     },
     "execution_count": 26,
     "metadata": {},
     "output_type": "execute_result"
    }
   ],
   "source": [
    "curso = \"Engenharia de Software\"\n",
    "nome_curso = curso\n",
    "saldo, limite = 200, 200\n",
    "\n",
    "curso is nome_curso\n",
    "curso is not nome_curso\n",
    "saldo is limite"
   ]
  },
  {
   "cell_type": "markdown",
   "metadata": {},
   "source": [
    "# Operador de associação\n",
    "- Permite descobrir se um valor está na sequência"
   ]
  },
  {
   "cell_type": "code",
   "execution_count": 27,
   "metadata": {},
   "outputs": [
    {
     "data": {
      "text/plain": [
       "False"
      ]
     },
     "execution_count": 27,
     "metadata": {},
     "output_type": "execute_result"
    }
   ],
   "source": [
    "curso = \"Engenharia de Software\"\n",
    "nome_curso = curso\n",
    "saldo = [200, 205, 1000]\n",
    "\n",
    "\"de\" in curso\n",
    "\"Software\" not in nome_curso\n",
    "300 in saldo\n"
   ]
  },
  {
   "cell_type": "code",
   "execution_count": 28,
   "metadata": {},
   "outputs": [
    {
     "data": {
      "text/plain": [
       "[0, 2, 4, 6, 64]"
      ]
     },
     "execution_count": 28,
     "metadata": {},
     "output_type": "execute_result"
    }
   ],
   "source": [
    "[n**2 if n > 6 else n for n in range(10) if n % 2 == 0]"
   ]
  },
  {
   "cell_type": "code",
   "execution_count": 29,
   "metadata": {},
   "outputs": [
    {
     "name": "stdout",
     "output_type": "stream",
     "text": [
      "False\n"
     ]
    }
   ],
   "source": [
    "carros = (\"gol\")\n",
    "print(isinstance(carros, tuple))"
   ]
  },
  {
   "cell_type": "markdown",
   "metadata": {},
   "source": []
  },
  {
   "cell_type": "code",
   "execution_count": 30,
   "metadata": {},
   "outputs": [
    {
     "ename": "ValueError",
     "evalue": "could not convert string to float: ''",
     "output_type": "error",
     "traceback": [
      "\u001b[1;31m---------------------------------------------------------------------------\u001b[0m",
      "\u001b[1;31mValueError\u001b[0m                                Traceback (most recent call last)",
      "\u001b[1;32md:\\Repository\\BootcampSantander\\estudos.ipynb Cell 21\u001b[0m line \u001b[0;36m1\n\u001b[1;32m----> <a href='vscode-notebook-cell:/d%3A/Repository/BootcampSantander/estudos.ipynb#X25sZmlsZQ%3D%3D?line=0'>1</a>\u001b[0m saldo_atual \u001b[39m=\u001b[39m \u001b[39mfloat\u001b[39;49m(\u001b[39minput\u001b[39;49m())\n\u001b[0;32m      <a href='vscode-notebook-cell:/d%3A/Repository/BootcampSantander/estudos.ipynb#X25sZmlsZQ%3D%3D?line=1'>2</a>\u001b[0m valor_deposito \u001b[39m=\u001b[39m \u001b[39mfloat\u001b[39m(\u001b[39minput\u001b[39m())\n\u001b[0;32m      <a href='vscode-notebook-cell:/d%3A/Repository/BootcampSantander/estudos.ipynb#X25sZmlsZQ%3D%3D?line=2'>3</a>\u001b[0m valor_retirada \u001b[39m=\u001b[39m \u001b[39mfloat\u001b[39m(\u001b[39minput\u001b[39m())\n",
      "\u001b[1;31mValueError\u001b[0m: could not convert string to float: ''"
     ]
    }
   ],
   "source": []
  },
  {
   "cell_type": "markdown",
   "metadata": {},
   "source": []
  },
  {
   "cell_type": "code",
   "execution_count": 32,
   "metadata": {},
   "outputs": [
    {
     "name": "stdout",
     "output_type": "stream",
     "text": [
      "Ativo\n",
      "Deposiot\n",
      "Reso\n"
     ]
    }
   ],
   "source": []
  }
 ],
 "metadata": {
  "kernelspec": {
   "display_name": "Python 3",
   "language": "python",
   "name": "python3"
  },
  "language_info": {
   "codemirror_mode": {
    "name": "ipython",
    "version": 3
   },
   "file_extension": ".py",
   "mimetype": "text/x-python",
   "name": "python",
   "nbconvert_exporter": "python",
   "pygments_lexer": "ipython3",
   "version": "3.12.0"
  }
 },
 "nbformat": 4,
 "nbformat_minor": 2
}
