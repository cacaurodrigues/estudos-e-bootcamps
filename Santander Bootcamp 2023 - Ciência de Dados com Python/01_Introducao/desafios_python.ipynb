{
 "cells": [
  {
   "cell_type": "markdown",
   "metadata": {},
   "source": [
    "# Desafio 1\n",
    "Descrição\n",
    "Para esse desafio, considere que você foi contratado por uma empresa bancária para auxiliar nas implementações e melhorias do sistema empresarial. Em uma análise inicial, foi identificado pela equipe financeira a necessidade de desenvolver uma solução que permita ao cliente equilibrar seu saldo bancário. Dessa forma, o programa deve solicitar uma entrada que representa o saldo atual do funcionário, e após, seja informado o valor de duas transações, sendo elas: um depósito e um saque. O programa deve atualizar o saldo com base nas transações e exibir o saldo final.\n",
    "\n",
    "Informação: As transações de depósito e retirada devem ser tratadas como valores positivos e negativos, respectivamente, para garantir que o cálculo do saldo final seja realizado corretamente.\n",
    " \n",
    "\n",
    "Entrada\n",
    "saldoAtual: um número decimal representando o saldo atual da conta bancária.\n",
    "valorDeposito: um número decimal representando o valor a ser depositado na conta.\n",
    "valorRetirada: um número decimal representando o valor a ser retirado da conta.\n",
    "\n",
    "Regra de Formatação: Considere apenas uma casa decimal para esse desafio.\n",
    "\n",
    "Saída\n",
    " Um número decimal que representa o saldo atualizado na conta bancária após o processamento das transações."
   ]
  },
  {
   "cell_type": "code",
   "execution_count": null,
   "metadata": {},
   "outputs": [],
   "source": [
    "saldo_atual = float(input())\n",
    "valor_deposito = float(input())\n",
    "valor_retirada = float(input())\n",
    "\n",
    "def verificar_saldo (saldo, deposito, saque):\n",
    "    return saldo + deposito - saque\n",
    "    \n",
    "\n",
    "#TODO: Imprimir o a saída de conforme a tabela de exemplos (uma casa decimal).\n",
    "saldo_final = verificar_saldo (saldo_atual, valor_deposito, valor_retirada)\n",
    "print(f\"Saldo atualizado na conta: {saldo_final:.1f}\")"
   ]
  },
  {
   "cell_type": "markdown",
   "metadata": {},
   "source": [
    "# Desafio 2\n",
    "Descrição\n",
    "Após uma análise cuidadosa realizada pela equipe de desenvolvimento de uma empresa bancaria, foi identificado a necessidade de uma nova funcionalidade para otimizar os processos e melhorias da experiência dos usuários. Agora, sua tarefa é implementar uma solução que organize em ordem alfabética uma lista de ativos que será informada pelos usuários. Os ativos são representados por strings que representam seus tipos, como por exemplo: Reservas de liquidez, Ativos intangiveis e dentre outros.\n",
    "\n",
    "Entrada\n",
    "A primeira entrada consiste em um número inteiro que representa a  quantidade de ativos que o usuário possui. Em seguida, o usuário deverá  informar, em linhas separadas, os tipos (strings) dos respectivos ativos.\n",
    "\n",
    "Saída\n",
    "Seu programa deve exibir a lista de Ativos organizada em ordem alfabética. Cada ativo deve ser apresentado em uma linha separada."
   ]
  },
  {
   "cell_type": "code",
   "execution_count": null,
   "metadata": {},
   "outputs": [],
   "source": [
    "ativos = []\n",
    "\n",
    "# Entrada da quantidade de ativos\n",
    "quantidadeAtivos = int(input())\n",
    "\n",
    "# Entrada dos códigos dos ativos\n",
    "for _ in range(quantidadeAtivos):\n",
    "    codigoAtivo = input()\n",
    "    ativos.append(codigoAtivo)\n",
    "\n",
    "ativos.sort()\n",
    "\n",
    "for valores in ativos:\n",
    "    print(valores.title())"
   ]
  },
  {
   "cell_type": "markdown",
   "metadata": {},
   "source": [
    "# Desafio 3\n",
    "Descrição\n",
    "Uma nova feature para um sistema bancário foi analisada pela equipe de desenvolvimento e será uma das tarefas a serem trabalhadas durante a sprint, como desenvolvedor da empresa você recebeu os requisitos para a nova implementação que consiste em uma solução algorítmica que permita aos clientes realizarem saques em caixas eletrônicos. No entanto, existem algumas regras a serem seguidas para garantir que um saque possa ser realizado com sucesso.\n",
    "\n",
    "Regras do saque:\n",
    "\n",
    "- Cada cliente digitará o valor do seu saldoTotal de sua conta bancária e o valorSaque.\n",
    "- Um saque só pode ser realizado se o saldoDisponível na conta for igual ou superior ao valor solicitado.\n",
    "- Se o saldo for suficiente, o valor solicitado deve ser subtraído do saldo disponível, indicando que o saque foi realizado.\n",
    "- Se o saldo for insuficiente, o saque não deve ser realizado e uma mensagem adequada deve ser exibida.\n",
    "\n",
    "Entrada\n",
    "A entrada consiste em dois valores inteiros que representam o total do saldo da conta e o valor do saque.\n",
    "\n",
    "Saída\n",
    "Se o saque for realizado com sucesso, exibir a mensagem \"Saque realizado com sucesso! Novo saldo: {saldo}\", onde {saldo} é o novo saldo disponível na conta.\n",
    "\n",
    "Se o saque não for possível devido a saldo insuficiente, exibir a mensagem \"Saldo insuficiente. Saque nao realizado!\""
   ]
  },
  {
   "cell_type": "code",
   "execution_count": 7,
   "metadata": {},
   "outputs": [
    {
     "name": "stdout",
     "output_type": "stream",
     "text": [
      "Saque realizado com sucesso! Novo saldo: 100\n"
     ]
    }
   ],
   "source": [
    "# Entrada de dados\n",
    "saldo_total = int(input())\n",
    "valor_saque = int(input())\n",
    "\n",
    "# TODO: Criar as condições necessárias para impressão da saída, vide tabela de exemplos.\n",
    "def operacao(saldo_inicial, saque):\n",
    "    if saldo_inicial >= saque:\n",
    "        saldo = saldo_inicial - saque\n",
    "        print(f\"Saque realizado com sucesso. Novo saldo: {saldo}\")\n",
    "    else:\n",
    "        saldo = saldo_inicial\n",
    "        print(\"Saldo insuficiente. Saque nao realizado!\")\n",
    "\n",
    "operacao(saldo_total, valor_saque)\n",
    "\n",
    "        "
   ]
  },
  {
   "cell_type": "markdown",
   "metadata": {},
   "source": [
    "# Desafio 4\n",
    "Desafio\n",
    "Imagine que você está desenvolvendo um aplicativo para um banco que deseja calcular os juros compostos de um investimento. Seu objetivo é criar uma função que receba três parâmetros: o valor inicial do investimento, a taxa de juros anual e o período de tempo em anos. A função deve calcular e retornar o valor final do investimento após o período determinado, levando em consideração os juros compostos.\n",
    "\n",
    "Entrada:\n",
    "A função deve receber os seguintes parâmetros:\n",
    "\n",
    "valor_inicial: um número inteiro ou decimal representando o valor inicial do investimento.\n",
    "\n",
    "taxa_juros: um número decimal representando a taxa de juros anual. Por exemplo, se a taxa for de 5%, o valor passado será 0.05.\n",
    "\n",
    "periodo: um número inteiro representando a quantidade de anos do investimento.\n",
    "\n",
    "Saída:\n",
    "A função deve retornar o valor final do investimento após o período determinado, considerando os juros compostos. O valor final deve ser arredondado para duas casas decimais."
   ]
  },
  {
   "cell_type": "code",
   "execution_count": 17,
   "metadata": {},
   "outputs": [
    {
     "name": "stdout",
     "output_type": "stream",
     "text": [
      "Valor final do investimento: R$ 29604.89\n"
     ]
    }
   ],
   "source": [
    "valor_inicial = float(input())\n",
    "taxa_juros = float(input())\n",
    "periodo = int(input())\n",
    "\n",
    "valor_final = valor_inicial\n",
    "\n",
    "def investimento (capital, juros, tempo):\n",
    "    for ano in range(tempo):\n",
    "        resultado = capital * (1+juros)\n",
    "        capital = resultado\n",
    "    return resultado\n",
    "\n",
    "valor_final = investimento(valor_inicial, taxa_juros, periodo)\n",
    "print(f\"Valor final do investimento: R$ {valor_final:.2f}\")"
   ]
  },
  {
   "cell_type": "markdown",
   "metadata": {},
   "source": [
    "# Desafio 5\n",
    "Desafio\n",
    "Você foi contratado por um banco para desenvolver um programa que auxilie seus clientes a realizar depósitos em suas contas. O programa deve solicitar ao cliente o valor do depósito e verificar se o valor é válido. Se o valor for maior do que zero, o programa deve adicionar o valor ao saldo da conta. Caso contrário, o programa deve exibir uma mensagem de erro. O programa deve soliticar apenas uma vez o valor de depósito.\n",
    "\n",
    "Entrada\n",
    "O programa deve utilizar o Scanner para receber o valor de depósito digitado pelo cliente. Os valor pode ser decimal, representando valor em reais.\n",
    "\n",
    "Saída\n",
    "O programa deve exibir uma mensagem de sucesso quando um valor de depósito válido for informado e o saldo da conta for atualizado. Se o valor for \"0\", deverá imprimir uma mensagem encerrando o programa. Caso um valor inválido seja digitado, o programa deve exibir uma mensagem de erro solicitando um novo valor."
   ]
  },
  {
   "cell_type": "code",
   "execution_count": 23,
   "metadata": {},
   "outputs": [
    {
     "name": "stdout",
     "output_type": "stream",
     "text": [
      "Deposito realizado com sucesso!\n",
      "Saldo atual:  R$ 100.00\n"
     ]
    }
   ],
   "source": [
    "valor = float(input())\n",
    "\n",
    "if valor > 0:\n",
    "   print(f'''Deposito realizado com sucesso!\n",
    "Saldo atual:  R$ {valor:.2f}''')\n",
    "elif valor == 0:\n",
    "   print(f\"Encerrando o programa...\")\n",
    "else:\n",
    "   print(f\"Valor invalido! Digite um valor maior que zero.\")"
   ]
  }
 ],
 "metadata": {
  "kernelspec": {
   "display_name": "Python 3",
   "language": "python",
   "name": "python3"
  },
  "language_info": {
   "codemirror_mode": {
    "name": "ipython",
    "version": 3
   },
   "file_extension": ".py",
   "mimetype": "text/x-python",
   "name": "python",
   "nbconvert_exporter": "python",
   "pygments_lexer": "ipython3",
   "version": "3.12.0"
  }
 },
 "nbformat": 4,
 "nbformat_minor": 2
}
