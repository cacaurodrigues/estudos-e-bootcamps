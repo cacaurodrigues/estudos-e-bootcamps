{
 "cells": [
  {
   "cell_type": "markdown",
   "metadata": {},
   "source": [
    "## Opções de programas para trabalhar:\n",
    "- sublime\n",
    "- replit (online)"
   ]
  },
  {
   "cell_type": "markdown",
   "metadata": {},
   "source": [
    "Exemplo 01"
   ]
  },
  {
   "cell_type": "code",
   "execution_count": null,
   "metadata": {},
   "outputs": [],
   "source": []
  },
  {
   "cell_type": "markdown",
   "metadata": {},
   "source": [
    "# Exemplo 02 -  rede neural do zero\n",
    "Mnist : tipo de rede neural gerada para reconhecer problemas númericos que reconhece números escritos a mão\n",
    "\n",
    "import torch \"\"\"framework de programação, aliado do tensorflow, ajuda na parte de projeto\"\"\"\n",
    "\n",
    "import torchvision \"\"\"biblioteca do torch pra visão computacional\"\"\"\n",
    "\n",
    "from time import time \"\"\"permite verificar tempo de execuçao\"\"\""
   ]
  },
  {
   "cell_type": "code",
   "execution_count": 2,
   "metadata": {},
   "outputs": [
    {
     "ename": "ModuleNotFoundError",
     "evalue": "No module named 'torch'",
     "output_type": "error",
     "traceback": [
      "\u001b[1;31m---------------------------------------------------------------------------\u001b[0m",
      "\u001b[1;31mModuleNotFoundError\u001b[0m                       Traceback (most recent call last)",
      "\u001b[1;32md:\\Repository\\estudos-e-bootcamps\\Santander Bootcamp 2023 - Ciência de Dados com Python\\FundamentosETecnicasdeML\\pythonEml.ipynb Cell 5\u001b[0m line \u001b[0;36m2\n\u001b[0;32m      <a href='vscode-notebook-cell:/d%3A/Repository/estudos-e-bootcamps/Santander%20Bootcamp%202023%20-%20Ci%C3%AAncia%20de%20Dados%20com%20Python/FundamentosETecnicasdeML/pythonEml.ipynb#W6sZmlsZQ%3D%3D?line=0'>1</a>\u001b[0m \u001b[39mimport\u001b[39;00m \u001b[39mnumpy\u001b[39;00m \u001b[39mas\u001b[39;00m \u001b[39mnp\u001b[39;00m\n\u001b[1;32m----> <a href='vscode-notebook-cell:/d%3A/Repository/estudos-e-bootcamps/Santander%20Bootcamp%202023%20-%20Ci%C3%AAncia%20de%20Dados%20com%20Python/FundamentosETecnicasdeML/pythonEml.ipynb#W6sZmlsZQ%3D%3D?line=1'>2</a>\u001b[0m \u001b[39mimport\u001b[39;00m \u001b[39mtorch\u001b[39;00m\n\u001b[0;32m      <a href='vscode-notebook-cell:/d%3A/Repository/estudos-e-bootcamps/Santander%20Bootcamp%202023%20-%20Ci%C3%AAncia%20de%20Dados%20com%20Python/FundamentosETecnicasdeML/pythonEml.ipynb#W6sZmlsZQ%3D%3D?line=2'>3</a>\u001b[0m \u001b[39mimport\u001b[39;00m \u001b[39mtorch\u001b[39;00m\u001b[39m.\u001b[39;00m\u001b[39mnn\u001b[39;00m\u001b[39m.\u001b[39;00m\u001b[39mfunctional\u001b[39;00m \u001b[39mas\u001b[39;00m \u001b[39mf\u001b[39;00m\n\u001b[0;32m      <a href='vscode-notebook-cell:/d%3A/Repository/estudos-e-bootcamps/Santander%20Bootcamp%202023%20-%20Ci%C3%AAncia%20de%20Dados%20com%20Python/FundamentosETecnicasdeML/pythonEml.ipynb#W6sZmlsZQ%3D%3D?line=3'>4</a>\u001b[0m \u001b[39mimport\u001b[39;00m \u001b[39mtorchvision\u001b[39;00m\n",
      "\u001b[1;31mModuleNotFoundError\u001b[0m: No module named 'torch'"
     ]
    }
   ],
   "source": [
    "import numpy as np\n",
    "import torch\n",
    "import torch.nn.functional as f\n",
    "import torchvision\n",
    "import matplotlib.pyplot\n",
    "from time import time\n",
    "from torchvision import datasets, transforms\n",
    "from torch import nn, optim"
   ]
  },
  {
   "cell_type": "code",
   "execution_count": null,
   "metadata": {},
   "outputs": [],
   "source": []
  }
 ],
 "metadata": {
  "kernelspec": {
   "display_name": "Python 3",
   "language": "python",
   "name": "python3"
  },
  "language_info": {
   "codemirror_mode": {
    "name": "ipython",
    "version": 3
   },
   "file_extension": ".py",
   "mimetype": "text/x-python",
   "name": "python",
   "nbconvert_exporter": "python",
   "pygments_lexer": "ipython3",
   "version": "3.12.0"
  }
 },
 "nbformat": 4,
 "nbformat_minor": 2
}
